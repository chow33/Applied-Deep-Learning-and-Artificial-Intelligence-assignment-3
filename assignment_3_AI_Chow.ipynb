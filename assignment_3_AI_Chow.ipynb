{
  "nbformat": 4,
  "nbformat_minor": 0,
  "metadata": {
    "colab": {
      "provenance": [],
      "gpuType": "T4",
      "authorship_tag": "ABX9TyMEMqPcMD/k3ruYW09nODZc",
      "include_colab_link": true
    },
    "kernelspec": {
      "name": "python3",
      "display_name": "Python 3"
    },
    "language_info": {
      "name": "python"
    },
    "accelerator": "GPU"
  },
  "cells": [
    {
      "cell_type": "markdown",
      "metadata": {
        "id": "view-in-github",
        "colab_type": "text"
      },
      "source": [
        "<a href=\"https://colab.research.google.com/github/chow33/Applied-Deep-Learning-and-Artificial-Intelligence-assignment-3/blob/main/assignment_3_AI_Chow.ipynb\" target=\"_parent\"><img src=\"https://colab.research.google.com/assets/colab-badge.svg\" alt=\"Open In Colab\"/></a>"
      ]
    },
    {
      "cell_type": "markdown",
      "source": [
        "# **Introduction**\n",
        "This assignment focuses on leveraging retrieval-augmented generation (RAG) techniques, particularly in the context of extracting and synthesizing information from various documents (or a document). You’ll be using Langchain to implement these concepts and create a system that not only generates responses but also retrieves relevant information from a database.\n",
        "\n",
        "#**Objective**\n",
        "# Task Description\n",
        "Your task is to create a system that uses RAG for extracting information from a set of documents or a document which can be either a scientific paper or report. This involves integrating a database to store vectors of document information and designing customized prompts to effectively use GPT models for generation. Here are some project ideas:\n",
        "\n",
        "\n",
        "\n",
        "*   Build a QA system that retrieves information from a given set of documents (or a document) to answer complex queries.\n",
        "*   Develop a tool for summarizing research papers, where the system extracts key points from a database of paper vectors.\n",
        "* Create a recommendation engine that suggests content based on user queries and retrieved document data.\n",
        "* Explore other innovative applications of RAG, such as automated content generation, data analysis, or any other creative use case you can envision.\n",
        "\n",
        "# **Key Components**\n",
        "* **Database Integration:** Set up a database to store and retrieve vectors representing document information.\n",
        "* **Customized Prompts**: Design and implement prompts that effectively utilize GPT models for generation based on retrieved data.\n",
        "* **RAG Implementation**: Use Langchain to integrate retrieval-augmented generation in your system.\n",
        "\n",
        "# **Data**\n",
        "* Utilize open-source datasets or create your own corpus of documents for retrieval.\n",
        "* Ensure the chosen datasets are suitable for demonstrating the capabilities of your RAG system."
      ],
      "metadata": {
        "id": "qXpb3_BWNih7"
      }
    },
    {
      "cell_type": "markdown",
      "source": [
        "In this project I will create a QA system that retrieves document I have uploaded from the National library of medicine. These document will be about cancer in young people, and the QA is about general complex answear about cancer."
      ],
      "metadata": {
        "id": "HPzMsT6KSryw"
      }
    },
    {
      "cell_type": "markdown",
      "source": [
        "I start by installing langchain and getting all the libraries"
      ],
      "metadata": {
        "id": "5SGu9KdxA4Hl"
      }
    },
    {
      "cell_type": "code",
      "source": [
        "import locale\n",
        "locale.getpreferredencoding = lambda: \"UTF-8\""
      ],
      "metadata": {
        "id": "1Lci2-OxEUbT"
      },
      "execution_count": 84,
      "outputs": []
    },
    {
      "cell_type": "code",
      "source": [
        "!pip install -Uqqq pip --progress-bar off\n",
        "!pip install -qqq torch==2.0.1 --progress-bar off\n",
        "!pip install -qqq transformers==4.33.2 --progress-bar off\n",
        "!pip install -qqq langchain==0.0.299 --progress-bar off\n",
        "!pip install -qqq chromadb==0.4.10 --progress-bar off\n",
        "!pip install -qqq xformers==0.0.21 --progress-bar off\n",
        "!pip install -qqq sentence_transformers==2.2.2 --progress-bar off\n",
        "!pip install -qqq tokenizers==0.14.0 --progress-bar off\n",
        "!pip install -qqq optimum==1.13.1 --progress-bar off\n",
        "!pip install -qqq auto-gptq==0.4.2 --extra-index-url https://huggingface.github.io/autogptq-index/whl/cu118/ --progress-bar off\n",
        "!pip install -qqq unstructured==0.10.16 --progress-bar off"
      ],
      "metadata": {
        "id": "TjNBjysoruYS",
        "colab": {
          "base_uri": "https://localhost:8080/"
        },
        "outputId": "1a970238-7d05-451e-e4b4-b2cbca88b3cc"
      },
      "execution_count": 73,
      "outputs": [
        {
          "output_type": "stream",
          "name": "stdout",
          "text": [
            "\u001b[33mWARNING: Running pip as the 'root' user can result in broken permissions and conflicting behaviour with the system package manager. It is recommended to use a virtual environment instead: https://pip.pypa.io/warnings/venv\u001b[0m\u001b[33m\n",
            "\u001b[0m\u001b[31mERROR: pip's dependency resolver does not currently take into account all the packages that are installed. This behaviour is the source of the following dependency conflicts.\n",
            "torchaudio 2.1.0+cu118 requires torch==2.1.0, but you have torch 2.0.1 which is incompatible.\n",
            "torchdata 0.7.0 requires torch==2.1.0, but you have torch 2.0.1 which is incompatible.\n",
            "torchtext 0.16.0 requires torch==2.1.0, but you have torch 2.0.1 which is incompatible.\n",
            "torchvision 0.16.0+cu118 requires torch==2.1.0, but you have torch 2.0.1 which is incompatible.\u001b[0m\u001b[31m\n",
            "\u001b[0m\u001b[33mWARNING: Running pip as the 'root' user can result in broken permissions and conflicting behaviour with the system package manager. It is recommended to use a virtual environment instead: https://pip.pypa.io/warnings/venv\u001b[0m\u001b[33m\n",
            "\u001b[0m\u001b[33mWARNING: Running pip as the 'root' user can result in broken permissions and conflicting behaviour with the system package manager. It is recommended to use a virtual environment instead: https://pip.pypa.io/warnings/venv\u001b[0m\u001b[33m\n",
            "\u001b[0m\u001b[33mWARNING: Running pip as the 'root' user can result in broken permissions and conflicting behaviour with the system package manager. It is recommended to use a virtual environment instead: https://pip.pypa.io/warnings/venv\u001b[0m\u001b[33m\n",
            "\u001b[0m\u001b[33mWARNING: Running pip as the 'root' user can result in broken permissions and conflicting behaviour with the system package manager. It is recommended to use a virtual environment instead: https://pip.pypa.io/warnings/venv\u001b[0m\u001b[33m\n",
            "\u001b[0m\u001b[33mWARNING: Running pip as the 'root' user can result in broken permissions and conflicting behaviour with the system package manager. It is recommended to use a virtual environment instead: https://pip.pypa.io/warnings/venv\u001b[0m\u001b[33m\n",
            "\u001b[0m\u001b[31mERROR: pip's dependency resolver does not currently take into account all the packages that are installed. This behaviour is the source of the following dependency conflicts.\n",
            "xformers 0.0.21 requires torch==2.0.1, but you have torch 2.1.0 which is incompatible.\u001b[0m\u001b[31m\n",
            "\u001b[0m\u001b[33mWARNING: Running pip as the 'root' user can result in broken permissions and conflicting behaviour with the system package manager. It is recommended to use a virtual environment instead: https://pip.pypa.io/warnings/venv\u001b[0m\u001b[33m\n",
            "\u001b[0m\u001b[31mERROR: pip's dependency resolver does not currently take into account all the packages that are installed. This behaviour is the source of the following dependency conflicts.\n",
            "datasets 2.15.0 requires huggingface-hub>=0.18.0, but you have huggingface-hub 0.16.4 which is incompatible.\n",
            "transformers 4.33.2 requires tokenizers!=0.11.3,<0.14,>=0.11.1, but you have tokenizers 0.14.0 which is incompatible.\u001b[0m\u001b[31m\n",
            "\u001b[0m\u001b[33mWARNING: Running pip as the 'root' user can result in broken permissions and conflicting behaviour with the system package manager. It is recommended to use a virtual environment instead: https://pip.pypa.io/warnings/venv\u001b[0m\u001b[33m\n",
            "\u001b[0m\u001b[33mWARNING: Running pip as the 'root' user can result in broken permissions and conflicting behaviour with the system package manager. It is recommended to use a virtual environment instead: https://pip.pypa.io/warnings/venv\u001b[0m\u001b[33m\n",
            "\u001b[0m\u001b[33mWARNING: Running pip as the 'root' user can result in broken permissions and conflicting behaviour with the system package manager. It is recommended to use a virtual environment instead: https://pip.pypa.io/warnings/venv\u001b[0m\u001b[33m\n",
            "\u001b[0m\u001b[33mWARNING: Running pip as the 'root' user can result in broken permissions and conflicting behaviour with the system package manager. It is recommended to use a virtual environment instead: https://pip.pypa.io/warnings/venv\u001b[0m\u001b[33m\n",
            "\u001b[0m"
          ]
        }
      ]
    },
    {
      "cell_type": "code",
      "source": [
        "!pip install accelerate --q"
      ],
      "metadata": {
        "colab": {
          "base_uri": "https://localhost:8080/"
        },
        "id": "zBYDxkFZvoPK",
        "outputId": "49964a9e-0363-496e-a395-2266d6e0012b"
      },
      "execution_count": 85,
      "outputs": [
        {
          "output_type": "stream",
          "name": "stdout",
          "text": [
            "\u001b[33mWARNING: Running pip as the 'root' user can result in broken permissions and conflicting behaviour with the system package manager. It is recommended to use a virtual environment instead: https://pip.pypa.io/warnings/venv\u001b[0m\u001b[33m\n",
            "\u001b[0m"
          ]
        }
      ]
    },
    {
      "cell_type": "code",
      "source": [
        "!pip install pypdf --q"
      ],
      "metadata": {
        "id": "mBeE3-XBrSP7",
        "colab": {
          "base_uri": "https://localhost:8080/"
        },
        "outputId": "eb684cba-cef8-44dc-c08c-0ab86c095c0a"
      },
      "execution_count": 86,
      "outputs": [
        {
          "output_type": "stream",
          "name": "stdout",
          "text": [
            "\u001b[33mWARNING: Running pip as the 'root' user can result in broken permissions and conflicting behaviour with the system package manager. It is recommended to use a virtual environment instead: https://pip.pypa.io/warnings/venv\u001b[0m\u001b[33m\n",
            "\u001b[0m"
          ]
        }
      ]
    },
    {
      "cell_type": "markdown",
      "source": [
        "Uploading my research paper from the open sourcing from National Library of Medicine"
      ],
      "metadata": {
        "id": "LZ9O6ltJOsn5"
      }
    },
    {
      "cell_type": "code",
      "source": [
        "from langchain.document_loaders import PyPDFLoader\n",
        "\n",
        "# List of file paths to your PDF documents\n",
        "pdf_file_paths = [\n",
        "    \"/content/Genomic and molecular feature on young adult cancer.pdf\",\n",
        "    \"/content/Global burdn of young cancer patient.pdf\",\n",
        "    \"/content/Young adult cancer survivorship and tips.pdf\"\n",
        "]\n",
        "\n",
        "docs = []\n",
        "\n",
        "# Load documents from each PDF file\n",
        "for file_path in pdf_file_paths:\n",
        "    try:\n",
        "        # Use PyPDFLoader to load the documents from each PDF file\n",
        "        loader = PyPDFLoader(file_path)\n",
        "        # Extend the 'docs' list with the loaded documents\n",
        "        docs.extend(loader.load())\n",
        "    except Exception as e:\n",
        "        print(f\"Error loading {file_path}: {e}\")\n",
        "\n",
        "# Get the total number of documents extracted\n",
        "total_documents = len(docs)\n",
        "print(f\"Total number of documents extracted: {total_documents}\")\n"
      ],
      "metadata": {
        "colab": {
          "base_uri": "https://localhost:8080/"
        },
        "id": "GkfLhJYm7sr1",
        "outputId": "65d3e911-2eda-45ad-8219-cfc6f1d680c2"
      },
      "execution_count": 88,
      "outputs": [
        {
          "output_type": "stream",
          "name": "stderr",
          "text": [
            "WARNING:pypdf._reader:Invalid parent xref., rebuild xref\n"
          ]
        },
        {
          "output_type": "stream",
          "name": "stdout",
          "text": [
            "Total number of documents extracted: 63\n"
          ]
        }
      ]
    },
    {
      "cell_type": "markdown",
      "source": [
        "Splitting the text into chunks so it is easier to read"
      ],
      "metadata": {
        "id": "c_R2YQQ8QCRl"
      }
    },
    {
      "cell_type": "code",
      "source": [
        "from langchain.text_splitter import RecursiveCharacterTextSplitter\n",
        "# Initialize the text splitter\n",
        "text_splitter = RecursiveCharacterTextSplitter(chunk_size=1024, chunk_overlap=64)\n",
        "# Extract text from all documents\n",
        "texts = [doc.page_content for doc in docs]\n",
        "\n",
        "# Split the texts into chunks\n",
        "split_texts = []\n",
        "\n",
        "for text in texts:\n",
        "    # Split the text using the text splitter\n",
        "    split_texts.extend(text_splitter.split_text(text))\n",
        "\n",
        "# Get the total number of text chunks\n",
        "total_chunks = len(split_texts)\n",
        "print(f\"Total number of text chunks: {total_chunks}\")\n"
      ],
      "metadata": {
        "id": "_oEsvN3vrcKE",
        "colab": {
          "base_uri": "https://localhost:8080/"
        },
        "outputId": "64e3961d-adf1-415d-81e8-b427b02b7ee0"
      },
      "execution_count": 89,
      "outputs": [
        {
          "output_type": "stream",
          "name": "stdout",
          "text": [
            "Total number of text chunks: 458\n"
          ]
        }
      ]
    },
    {
      "cell_type": "markdown",
      "source": [
        "Splitting the document into chunks is required due to the limited number of tokens a LLM can look at once (4096 for Llama 2). Next, I will use the HuggingFaceEmbeddings class to create embeddings for the chunks:"
      ],
      "metadata": {
        "id": "JgXiPz0uR5jS"
      }
    },
    {
      "cell_type": "code",
      "source": [
        "from langchain.embeddings import HuggingFaceEmbeddings\n",
        "\n",
        "embeddings = HuggingFaceEmbeddings(\n",
        "    model_name=\"thenlper/gte-large\",\n",
        "    model_kwargs={\"device\": \"cuda\"},\n",
        "    encode_kwargs={\"normalize_embeddings\": True},\n",
        ")\n",
        "\n",
        "query_result = embeddings.embed_query(texts[0])\n",
        "print(len(query_result))"
      ],
      "metadata": {
        "colab": {
          "base_uri": "https://localhost:8080/"
        },
        "id": "vql2ra9P3YeC",
        "outputId": "79af33d7-b47c-48d3-9449-df2d59f4c472"
      },
      "execution_count": 90,
      "outputs": [
        {
          "output_type": "stream",
          "name": "stdout",
          "text": [
            "1024\n"
          ]
        }
      ]
    },
    {
      "cell_type": "markdown",
      "source": [
        "I am use Chroma database to store/cache the embeddings and make it easy to search them:\n",
        "\n",
        "To combine the LLM with the database, we'll use the RetrievalQA chain:"
      ],
      "metadata": {
        "id": "LbgO2jugR9Ht"
      }
    },
    {
      "cell_type": "code",
      "source": [
        "from langchain.vectorstores import Chroma\n",
        "\n",
        "db = Chroma.from_texts(texts, embeddings, persist_directory=\"db\")\n",
        "results = db.similarity_search(\"Transformer models\", k=2)\n",
        "print(results[0].page_content)\n"
      ],
      "metadata": {
        "colab": {
          "base_uri": "https://localhost:8080/"
        },
        "id": "3lEBC6C19WWl",
        "outputId": "c40ec4ad-6d11-407c-9182-4bcb52a39509"
      },
      "execution_count": 91,
      "outputs": [
        {
          "output_type": "stream",
          "name": "stdout",
          "text": [
            "Figure 7. Clinical actionability in young\n",
            "adult versus later-onset tumors\n",
            "(A) Percentages of unique young adult and later-\n",
            "onset cases with somatic variants druggable atthe A or B evidence levels, further subdivided byon versus off-label status.(B) Percentages of unique young adult and later-onset cases expressing each of the top ﬁve(ranked by frequency of appearance in the sevenselected cancers) clinically druggable somaticvariants. Young adult percentages are red; later-onset are black. After correcting for confoundingfactors, a single signiﬁcant association (FDR<0.05) was found between BRAF V600E mutations\n",
            "and young adult SKCM.(C) Percentages of unique young adult and later-\n",
            "onset cases with copy-number ampliﬁcations\n",
            "druggable at the A or B evidence levels, furthersubdivided by on versus off-label status.(D) Percentages of unique young adult and later-onset cases expressing each of the top ﬁve(ranked by frequency of appearance in the sixselected cancers) clinically druggable copy-num-ber ampliﬁcations. Young adult percentages arered; later-onset are black.See also Figure S7 .\n",
            "Cell Reports 37, 110005, November 16, 2021 11Articlell\n",
            "OPEN ACCESS\n"
          ]
        }
      ]
    },
    {
      "cell_type": "markdown",
      "source": [
        "These code create the template for the QA system, and it is answeared by a doctor who has a lot of knowledge about cancer. The first question is about how to avoid getting cancer."
      ],
      "metadata": {
        "id": "W67i8E_cSLxn"
      }
    },
    {
      "cell_type": "code",
      "source": [
        "from langchain.chains import RetrievalQA\n",
        "from langchain import PromptTemplate\n",
        "\n",
        "template = \"\"\"\n",
        "<s>[INST] <<SYS>>\n",
        "Act as cancer specialist giving teenager health advise to avoid cancer. Use the following information to answer the question at the end.\n",
        "<</SYS>>\n",
        "\n",
        "{context}\n",
        "\n",
        "{question} [/INST]\n",
        "\"\"\"\n",
        "\n",
        "prompt = PromptTemplate(template=template, input_variables=[\"context\", \"question\"])\n",
        "\n",
        "\n",
        "qa_chain = RetrievalQA.from_chain_type(\n",
        "    llm=llm,\n",
        "    chain_type=\"stuff\",\n",
        "    retriever=db.as_retriever(search_kwargs={\"k\": 2}),\n",
        "    return_source_documents=True,\n",
        "    chain_type_kwargs={\"prompt\": prompt},\n",
        ")\n",
        "\n",
        "result = qa_chain(\n",
        "    \"How do i avoid getting cancer.\"\n",
        ")\n",
        "print(result[\"result\"].strip())"
      ],
      "metadata": {
        "colab": {
          "base_uri": "https://localhost:8080/"
        },
        "id": "n5qN2N7h_WWP",
        "outputId": "fee0166e-4de2-48b3-c691-ef69a70fa480"
      },
      "execution_count": 95,
      "outputs": [
        {
          "output_type": "stream",
          "name": "stderr",
          "text": [
            "/usr/local/lib/python3.10/dist-packages/transformers/pipelines/base.py:1101: UserWarning: You seem to be using the pipelines sequentially on GPU. In order to maximize efficiency please use a dataset\n",
            "  warnings.warn(\n"
          ]
        },
        {
          "output_type": "stream",
          "name": "stdout",
          "text": [
            "As a cancer specialist, I must first emphasize that while there are certain steps you can take to reduce your risk of developing cancer, it is essential to understand that cancer can occur even without any known causes or risk factors. Nonetheless, here are some general tips that may help reduce your risk of getting cancer:\n",
            "1. Don't smoke or use tobacco products: Tobacco use is the leading cause of preventable cancer deaths worldwide. Quitting smoking and avoiding exposure to secondhand smoke can significantly reduce your risk of developing lung, mouth, throat, and other cancers.\n",
            "2. Maintain a healthy weight: Being overweight or obese increases the risk of several types of cancer, including breast, colon, and pancreatic cancer. Eating a balanced diet and exercising regularly can help maintain a healthy weight.\n",
            "3. Exercise regularly: Physical activity has been shown to reduce the risk of developing certain types of cancer, including breast and colon cancer. Aim for at least 150 minutes of moderate-intensity exercise or 75 minutes of vigorous-intensity exercise per week.\n",
            "4. Eat a healthy diet: A diet rich in fruits, vegetables, and whole grains can help reduce the risk of cancer. Limit your intake of processed meat, sugar, and saturated fat.\n",
            "5. Protect yourself from the sun: Skin cancer is one of the most common types of cancer. Avoid excessive sun exposure by seeking shade, wearing protective clothing, and using sunscreen with a Sun Protection Factor (SPF) of 30 or higher.\n",
            "6. Get vaccinated against HPV: The human papillomavirus (HPV) is a common cause of cervical and other cancers. The HPV vaccine is recommended for boys and girls aged 11-12 years old, but it can still be beneficial for older individuals who have not yet been vaccinated.\n",
            "7. Limit alcohol consumption: Drinking too much alcohol can increase the risk of several types of cancer, including liver, breast, and colon cancer. For women, this means drinking no more than one drink per day, and for men, no more than two drinks per day.\n",
            "8. Manage stress: Chronic stress can weaken your immune system and increase your risk of cancer. Practice stress-reducing techniques like meditation, yoga, or deep breathing exercises.\n",
            "9. Get enough sleep: Lack of sleep can increase the risk of cancer, particularly breast cancer. Aim for 7-8 hours of sleep each night.\n",
            "10. Stay up-to-date on cancer screenings: Early detection and treatment of cancer are critical for successful treatment outcomes. Make sure to follow the recommended cancer screening guidelines for your age and medical history.\n",
            "\n",
            "Remember, while these tips may help reduce your risk of getting cancer, they are not a guarantee. It's essential to be aware of your family medical history and any genetic mutations that may increase your risk of cancer. If you have concerns about your cancer risk, speak with your doctor or a genetic counselor.\n"
          ]
        }
      ]
    },
    {
      "cell_type": "markdown",
      "source": [
        "The second question is about the consequent of cancer"
      ],
      "metadata": {
        "id": "4D9ycww4Sd-z"
      }
    },
    {
      "cell_type": "code",
      "source": [
        "from textwrap import fill\n",
        "\n",
        "result = qa_chain(\n",
        "    \"Summarize the consequent of cancer at a young age.\"\n",
        ")\n",
        "print(fill(result[\"result\"].strip(), width=80))"
      ],
      "metadata": {
        "colab": {
          "base_uri": "https://localhost:8080/"
        },
        "id": "KoxJCqsw_03R",
        "outputId": "9a788b0b-b420-4f08-ee53-f75630058de3"
      },
      "execution_count": 96,
      "outputs": [
        {
          "output_type": "stream",
          "name": "stdout",
          "text": [
            "Based on the article provided, here are some key points about the consequences\n",
            "of cancer at a young age: 1. Incident cancer cases: There were approximately 1.2\n",
            "million new cancer cases diagnosed in people aged 15-39 worldwide in 2019. 2.\n",
            "Deaths due to cancer: Cancer was responsible for 396,000 deaths among people\n",
            "aged 15-39 worldwide in 2019. 3. Age-standardized incidence rates: The highest\n",
            "age-standardized incidence rates occurred in high-middle SDI countries (53.2 per\n",
            "100,000 person-years) and high SDI countries (59.6 per 100,000 person-years). 4.\n",
            "Age-standardized mortality rates: The highest age-standardized mortality rates\n",
            "were in low-middle SDI (14.2 per 100,000 person-years) and middle SDI (13.6 per\n",
            "100,000 person-years) countries. 5. Disability-adjusted life-years (DALYs):\n",
            "Adolescent and young adult cancers contributed 2.35 million DALYs to the global\n",
            "burden of disease in 2019, with 2.7% of these DALYs coming from years lived with\n",
            "disability (YLDs) and 97.3% from years lost due to premature death (YLLs). 6.\n",
            "Leading cause of death: Cancer was the fourth leading cause of death and tenth\n",
            "leading cause of DALYs in adolescents and young adults globally. These findings\n",
            "suggest that adolescent and young adult cancer is a significant public health\n",
            "concern, particularly in high-middle and high SDI countries, where the majority\n",
            "of cancer deaths occur. Early detection and prevention strategies may help\n",
            "reduce the burden of cancer in this age group.\n"
          ]
        }
      ]
    },
    {
      "cell_type": "markdown",
      "source": [
        "The third question is the general persona of young people that get cancer."
      ],
      "metadata": {
        "id": "0fi05Fz1SiyC"
      }
    },
    {
      "cell_type": "code",
      "source": [
        "from textwrap import fill\n",
        "\n",
        "result = qa_chain(\n",
        "    \"What is a general persona for a young person who got cancer\"\n",
        ")\n",
        "print(fill(result[\"result\"].strip(), width=80))"
      ],
      "metadata": {
        "colab": {
          "base_uri": "https://localhost:8080/"
        },
        "id": "WpwE0ifvAkGD",
        "outputId": "2d1b00cb-2ab0-49da-97bd-44bedbba4401"
      },
      "execution_count": 97,
      "outputs": [
        {
          "output_type": "stream",
          "name": "stdout",
          "text": [
            "As a cancer specialist, I would advise a young person who has been diagnosed\n",
            "with cancer to take the following steps to reduce their risk of complications\n",
            "and improve their overall health: 1. Get informed: Learn as much as possible\n",
            "about your type of cancer, its symptoms, and its treatment options. This will\n",
            "help you make informed decisions about your care and feel more confident in the\n",
            "medical system. 2. Build a strong support network: Cancer treatment can be\n",
            "emotionally and physically challenging, so it's essential to have a good support\n",
            "system in place. This includes family, friends, and mental health professionals\n",
            "who can provide emotional support and help you cope with the challenges of\n",
            "treatment. 3. Stay active: Regular exercise can help manage cancer-related\n",
            "fatigue, improve mood, and enhance overall physical functioning. It doesn't\n",
            "matter if you're able to do only a little bit of exercise each day - every\n",
            "little bit counts! 4. Eat a healthy diet: Fuel your body with nutritious foods\n",
            "that promote healing and wellness. Aim for a balanced diet rich in fruits,\n",
            "vegetables, whole grains, lean proteins, and healthy fats. 5. Get enough rest:\n",
            "Restful sleep is crucial for overall health and well-being, especially when\n",
            "undergoing cancer treatment. Aim for 7-8 hours of sleep per night and establish\n",
            "a consistent bedtime routine to help regulate your sleep patterns. 6. Practice\n",
            "mindfulness: Mindfulness practices such as meditation, deep breathing, or yoga\n",
            "can help reduce stress and anxiety associated with cancer treatment. They can\n",
            "also help you stay present and focused on your recovery journey. 7. Seek\n",
            "professional help: If you're struggling with mental health issues such as\n",
            "depression, anxiety, or post-traumatic stress disorder (PTSD), don't hesitate to\n",
            "seek professional help. Mental health professionals can provide valuable\n",
            "guidance and support throughout your cancer journey. 8. Stay connected:\n",
            "Connecting with others who understand what you're going through can be\n",
            "incredibly helpful. Join a cancer support group or online community where you\n",
            "can share experiences and receive emotional support from others who are going\n",
            "through similar situations. By following these tips, you can help ensure that\n",
            "you're taking proactive steps towards managing your cancer treatment and\n",
            "improving your overall health and well-being. Remember, every step counts, and\n",
            "even small changes can make a big difference in your journey towards healing and\n",
            "recovery.\n"
          ]
        }
      ]
    }
  ]
}